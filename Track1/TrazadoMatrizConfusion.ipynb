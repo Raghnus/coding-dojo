{
  "nbformat": 4,
  "nbformat_minor": 0,
  "metadata": {
    "colab": {
      "name": "TrazadoMatrizConfusion.ipynb",
      "provenance": [],
      "collapsed_sections": [],
      "authorship_tag": "ABX9TyPOKOyvXKWqeKqkwuz/ln2q",
      "include_colab_link": true
    },
    "kernelspec": {
      "name": "python3",
      "display_name": "Python 3"
    },
    "language_info": {
      "name": "python"
    }
  },
  "cells": [
    {
      "cell_type": "markdown",
      "metadata": {
        "id": "view-in-github",
        "colab_type": "text"
      },
      "source": [
        "<a href=\"https://colab.research.google.com/github/Raghnus/coding-dojo/blob/main/Track1/TrazadoMatrizConfusion.ipynb\" target=\"_parent\"><img src=\"https://colab.research.google.com/assets/colab-badge.svg\" alt=\"Open In Colab\"/></a>"
      ]
    },
    {
      "cell_type": "markdown",
      "source": [
        "#**Generación de una matriz de confusión visualizada como mapa de calor**\n",
        "###Autor: Juan Játiva\n",
        "###Fecha de creación: 2022/01/28\n",
        "###Fecha última actualización: 2022/01/28\n",
        "\n",
        "##**Descripción**\n",
        "En base a los datos obtenidos de una matriz de confusión, previamente generada, se va a realizar un grafico para verla como un mapa de calor."
      ],
      "metadata": {
        "id": "RjfJAOD90ifX"
      }
    },
    {
      "cell_type": "markdown",
      "source": [
        "Importamos las librerías necesarias."
      ],
      "metadata": {
        "id": "-LTCgnvJ1CNQ"
      }
    },
    {
      "cell_type": "code",
      "execution_count": 1,
      "metadata": {
        "id": "mS3K2cW8hgMr"
      },
      "outputs": [],
      "source": [
        "import numpy as np\n",
        "import matplotlib.pyplot as plt"
      ]
    },
    {
      "cell_type": "markdown",
      "source": [
        "Asignamos los valores obtenidos de la matriz a una nueva matriz."
      ],
      "metadata": {
        "id": "75fhpuRp1Jp_"
      }
    },
    {
      "cell_type": "code",
      "source": [
        "valores = ['0','1']\n",
        "matriz_confusion = np.array([(87,16),(17,59)])\n",
        "matriz_confusion"
      ],
      "metadata": {
        "colab": {
          "base_uri": "https://localhost:8080/"
        },
        "id": "GTHquwTdiA1R",
        "outputId": "7c0bd554-c4a3-46fc-ab41-4db95ffcd318"
      },
      "execution_count": 2,
      "outputs": [
        {
          "output_type": "execute_result",
          "data": {
            "text/plain": [
              "array([[87, 16],\n",
              "       [17, 59]])"
            ]
          },
          "metadata": {},
          "execution_count": 2
        }
      ]
    },
    {
      "cell_type": "markdown",
      "source": [
        "Realizamos el cálculo de la precisión del modelo."
      ],
      "metadata": {
        "id": "ke49jQLF1m_G"
      }
    },
    {
      "cell_type": "code",
      "source": [
        "tn, fp, fn, tp = matriz_confusion.ravel()\n",
        "precision = (tn+tp)/(tp+tn+fp+fn)\n",
        "precision"
      ],
      "metadata": {
        "colab": {
          "base_uri": "https://localhost:8080/"
        },
        "id": "m22dx477myxS",
        "outputId": "7886cd2c-3093-4e66-e5ed-e0fa371941ec"
      },
      "execution_count": 3,
      "outputs": [
        {
          "output_type": "execute_result",
          "data": {
            "text/plain": [
              "0.8156424581005587"
            ]
          },
          "metadata": {},
          "execution_count": 3
        }
      ]
    },
    {
      "cell_type": "markdown",
      "source": [
        "Procedemos a graficar el objetivo"
      ],
      "metadata": {
        "id": "D-E0Pe-z1xSX"
      }
    },
    {
      "cell_type": "code",
      "source": [
        "plt.imshow(matriz_confusion, cmap=plt.cm.Blues)#Método para indicar un mapa de color con los datos de la matriz de confusión\n",
        "plt.title('Accuracy Score: '+str(precision))\n",
        "plt.colorbar()#Agrega al gráfico la barra de color\n",
        "tick_marks = np.arange(len(valores))#Señala el número de indicadores que vamos a tener en el gráfico\n",
        "plt.xticks(tick_marks, valores)#Indicamos los nombres en el eje x\n",
        "plt.yticks(tick_marks, valores)#Indicamos los nombres en el eje y\n",
        "iters = np.reshape([[[i,j] for j in range(2)]for i in range(2)],(matriz_confusion.size,2))\n",
        "for i, j in iters:\n",
        "  plt.text(j,i, format (matriz_confusion [i,j]))#Agregamos los valores correspondientes a cada resultado\n",
        "plt.ylabel('Actual')\n",
        "plt.xlabel('Predicho')\n",
        "plt.tight_layout()\n"
      ],
      "metadata": {
        "colab": {
          "base_uri": "https://localhost:8080/",
          "height": 297
        },
        "id": "CWgWK0tli3AD",
        "outputId": "3069bac5-d12d-4312-e9f5-da44a9e9b19d"
      },
      "execution_count": 6,
      "outputs": [
        {
          "output_type": "display_data",
          "data": {
            "image/png": "[encoded data removed]",
            "text/plain": [
              "<Figure size 432x288 with 2 Axes>"
            ]
          },
          "metadata": {
            "needs_background": "light"
          }
        }
      ]
    }
  ]
}